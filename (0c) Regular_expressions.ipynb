{
 "cells": [
  {
   "cell_type": "code",
   "execution_count": 1,
   "metadata": {},
   "outputs": [],
   "source": [
    "log = \"July 29 07:45:02 message_to_the universe abir[29793]: muaaah mueeaaa muaaaahhh muaah\"\n",
    "index = log.index(\"[\") # get 29793 from the log file\n",
    "print(log[index+1:index+6])"
   ]
  },
  {
   "cell_type": "markdown",
   "metadata": {},
   "source": [
    "We can do the same thing using regular expressions. Now the question is, why we need it ? suppose we had another [ ] in the log or the string number is too large to grasp it's size, then the above approach might not work properly."
   ]
  },
  {
   "cell_type": "code",
   "execution_count": 2,
   "metadata": {},
   "outputs": [],
   "source": [
    "import re\n",
    "log = \"July 29 07:45:02 message_to_the universe abir[29793]: muaaah mueeaaa muaaaahhh muaah\"\n",
    "regex = r\"\\[(\\d+)\\]\"\n",
    "result = re.search(regex,log)\n",
    "print(result[1])"
   ]
  },
  {
   "cell_type": "raw",
   "metadata": {},
   "source": [
    "^\tMatch the beginning of a line \n",
    "$\tMatch the end of a line\n",
    ".\tMatch any character\n",
    "\\s\tMatch white space characters\n",
    "\\S\tMatch any non white space characters\n",
    "*****\tRepeat a character 0 or more times\n",
    "*?\tRepeat a character 0 or more times (non greedy)\n",
    "+\tRepeat a character one or more times\n",
    "+?\tRepeat a character once or more (non greedy)\n",
    "[aeiou]\tMatch a single character listed\n",
    "[^XYZ]\tMatch a single character that is not listed\n",
    "[a-z0-9]\tSet the characters that can be included\n",
    "()\tIndicates the beginning of the extracted string\n",
    ")\tIndicates the end of the extracted string"
   ]
  },
  {
   "cell_type": "markdown",
   "metadata": {},
   "source": [
    "\\d is a digit (a character in the range 0-9), and + means 1 or more times. So, \\d+ is 1 or more digits. Again, \\D implies nondigit i.e everything but digits. r stands as raw string."
   ]
  },
  {
   "cell_type": "code",
   "execution_count": 3,
   "metadata": {
    "scrolled": true
   },
   "outputs": [
    {
     "name": "stdout",
     "output_type": "stream",
     "text": [
      "<re.Match object; span=(6, 9), match='ple'>\n",
      "<re.Match object; span=(0, 1), match='x'>\n",
      "<re.Match object; span=(4, 5), match='x'>\n",
      "<re.Match object; span=(2, 9), match='neapple'>\n",
      "<re.Match object; span=(5, 9), match='Pple'>\n",
      "<re.Match object; span=(20, 24), match='pple'>\n",
      "<re.Match object; span=(16, 18), match='20'>\n",
      "<re.Match object; span=(1, 2), match=' '>\n",
      "<re.Match object; span=(21, 22), match='.'>\n",
      "<re.Match object; span=(0, 8), match='Pakistan'>\n",
      "['cat', 'dog']\n",
      "<re.Match object; span=(0, 18), match='Python Programming'>\n",
      "<re.Match object; span=(0, 6), match='python'>\n",
      "<re.Match object; span=(1, 5), match='ooll'>\n",
      "<re.Match object; span=(2, 6), match='thon'>\n",
      "<re.Match object; span=(10, 14), match='.com'>\n",
      "<re.Match object; span=(0, 4), match='this'>\n",
      "<re.Match object; span=(0, 15), match='this_is_another'>\n",
      "<re.Match object; span=(0, 9), match='Australia'>\n"
     ]
    }
   ],
   "source": [
    "import re\n",
    "result = re.search(r\"ple\",\"pineapple\")\n",
    "result1 = re.search(r\"^x\",\"xerox\")\n",
    "result2= re.search(r\"x$\",\"xerox\")\n",
    "result3 = re.search(r\"n.apple\",\"pineapple\")\n",
    "result4 = re.search(r\"[Pp]ple\",\"pineaPple\")\n",
    "result5 = re.search(r\"[a-z]ple\",\"That guy likes pineapple a lot\")\n",
    "result6 = re.search(r\"[a-zA-Z0-9]0\",\"That guy bought 20 pineapples\")\n",
    "result7 = re.search(r\"[^a-zA-Z0-9]\",\"A sentecne with space.\") # will find space\n",
    "result8 = re.search(r\"[^a-zA-Z0-9 ]\",\"A sentecne with space.\") # will look for period\n",
    "result9 = re.search(r\"pakistan|afganistan[a-zA-Z]\", \"Pakistan plays cricket.\",re.IGNORECASE)\n",
    "result10 = re.findall(r\"dog|cat\",\"i like cats and dogs\")\n",
    "result11 = re.search(r\"Py.*g\",\"Python Programming\")\n",
    "result12 = re.search(r\"Py[a-zA-Z]*n\",\"python\",re.IGNORECASE)\n",
    "result13 = re.search(r\"o+l+\",\"woolly\")\n",
    "result14 = re.search(r\"p?thon\",\"python\")\n",
    "result15 = re.search(r\"\\.com\",\"www.google.com\")\n",
    "result16 = re.search(r\"\\w*\",\"this is an example\")\n",
    "result17 = re.search(r\"\\w*\",\"this_is_another\")\n",
    "result18 = re.search(r\"^A.*a$\",\"Australia\")\n",
    "print(result)\n",
    "print(result1)\n",
    "print(result2)\n",
    "print(result3)\n",
    "print(result4)\n",
    "print(result5)\n",
    "print(result6)\n",
    "print(result7)\n",
    "print(result8)\n",
    "print(result9)\n",
    "print(result10)\n",
    "print(result11)\n",
    "print(result12)\n",
    "print(result13)\n",
    "print(result14)\n",
    "print(result15)\n",
    "print(result16)\n",
    "print(result17)\n",
    "print(result18)"
   ]
  },
  {
   "cell_type": "markdown",
   "metadata": {},
   "source": [
    "\\w will match letters, numbers, and underscores."
   ]
  },
  {
   "cell_type": "code",
   "execution_count": 4,
   "metadata": {},
   "outputs": [
    {
     "name": "stdout",
     "output_type": "stream",
     "text": [
      "<re.Match object; span=(0, 12), match='Zaman Shazia'>\n",
      "<re.Match object; span=(0, 4), match='This'>\n",
      "['This', 'code', 'will', 'look', 'word', 'cont', 'anin', 'four', 'lett']\n",
      "['This', 'code', 'will', 'look', 'word', 'four']\n",
      "['really', 'strawberri']\n",
      "['really', 'strawberries']\n",
      "<re.Match object; span=(14, 26), match='strawberries'>\n"
     ]
    }
   ],
   "source": [
    "result = re.search(r\"^(\\w*)( \\w*)$\",\"Zaman Shazia\")\n",
    "result1 = re.search(r\"[a-zA-Z]{4}\", \"This code will look for word contaning four letters\") # we get only one, we need more\n",
    "result2 = re.findall(r\"[a-zA-Z]{4}\", \"This code will look for word contaning four letters\") # we get incomplete words\n",
    "result3 = re.findall(r\"\\b[a-zA-Z]{4}\\b\", \"This code will look for word contaning four letters\") # we get only one, we need more\n",
    "result4 = re.findall(r\"\\w{5,10}\",\"i really like strawberries\")\n",
    "result5 = re.findall(r\"\\w{5,}\",\"i really like strawberries\")\n",
    "result6 = re.search(r\"s\\w{,20}\",\"i really like strawberries\")\n",
    "print(result)\n",
    "print(result1)\n",
    "print(result2)\n",
    "print(result3) # precisely four letter containing words\n",
    "print(result4)\n",
    "print(result5)\n",
    "print(result6)"
   ]
  },
  {
   "cell_type": "markdown",
   "metadata": {},
   "source": [
    "The long_words function returns all words that are at least 7 characters. "
   ]
  },
  {
   "cell_type": "code",
   "execution_count": 5,
   "metadata": {},
   "outputs": [
    {
     "name": "stdout",
     "output_type": "stream",
     "text": [
      "['morning']\n",
      "['chocolate', 'afternoon']\n",
      "[]\n"
     ]
    }
   ],
   "source": [
    "import re\n",
    "def long_words(text):\n",
    "  pattern = r\"\\w{7,}\"\n",
    "  result = re.findall(pattern, text)\n",
    "  return result\n",
    "\n",
    "print(long_words(\"I like to drink coffee in the morning.\")) # ['morning']\n",
    "print(long_words(\"I also have a taste for hot chocolate in the afternoon.\")) # ['chocolate', 'afternoon']\n",
    "print(long_words(\"I never drink tea late at night.\")) # []"
   ]
  },
  {
   "cell_type": "code",
   "execution_count": 6,
   "metadata": {},
   "outputs": [
    {
     "data": {
      "text/plain": [
       "' Shazia Zaman'"
      ]
     },
     "execution_count": 6,
     "metadata": {},
     "output_type": "execute_result"
    }
   ],
   "source": [
    "def rearrange_name(name):\n",
    "    result = re.search(r\"^(\\w*)( \\w*)$\",name)\n",
    "    if result is None:\n",
    "        return name\n",
    "    else:\n",
    "        return \"{} {}\".format(result[2],result[1])\n",
    "rearrange_name(\"Zaman Shazia\")    "
   ]
  },
  {
   "cell_type": "markdown",
   "metadata": {},
   "source": [
    "what if the name is short formed? like Z. Shazia, will the code work?"
   ]
  },
  {
   "cell_type": "code",
   "execution_count": 7,
   "metadata": {},
   "outputs": [
    {
     "data": {
      "text/plain": [
       "'Z., Shazia'"
      ]
     },
     "execution_count": 7,
     "metadata": {},
     "output_type": "execute_result"
    }
   ],
   "source": [
    "def rearrange_name(name):\n",
    "    result = re.search(r\"^(\\w*)( \\w*)$\",name)\n",
    "    if result is None:\n",
    "        return name\n",
    "    else:\n",
    "        return \"{} {}\".format(result[2],result[1])\n",
    "rearrange_name(\"Z., Shazia\") "
   ]
  },
  {
   "cell_type": "markdown",
   "metadata": {},
   "source": [
    "it does not. to we fix this by,"
   ]
  },
  {
   "cell_type": "code",
   "execution_count": 8,
   "metadata": {},
   "outputs": [
    {
     "name": "stdout",
     "output_type": "stream",
     "text": [
      "Shazia Z.\n"
     ]
    }
   ],
   "source": [
    "import re\n",
    "def rearrange_name(name):\n",
    "  result = re.search(r\"^([\\w\\.]*), ([\\w\\.]*)$\", name) # adding the .dot identifier\n",
    "  if result == None:\n",
    "    return name\n",
    "  return \"{} {}\".format(result[2], result[1])\n",
    "\n",
    "name=rearrange_name(\"Z., Shazia\")\n",
    "print(name)"
   ]
  },
  {
   "cell_type": "markdown",
   "metadata": {},
   "source": [
    "What if there is  a middle name? Shazia Z. Anjoli"
   ]
  },
  {
   "cell_type": "code",
   "execution_count": 9,
   "metadata": {},
   "outputs": [
    {
     "name": "stdout",
     "output_type": "stream",
     "text": [
      "Shazia Z. Anjoli\n"
     ]
    }
   ],
   "source": [
    "import re\n",
    "def rearrange_name(name):\n",
    "  result = re.search(r\"^([\\w \\.-]*), ([\\w \\.-]*)$\", name) # adding the .dot, space identifier (-)optional\n",
    "  if result == None:\n",
    "    return name\n",
    "  return \"{} {}\".format(result[2], result[1])\n",
    "\n",
    "name=rearrange_name(\"Z. Anjoli, Shazia\")\n",
    "print(name)"
   ]
  },
  {
   "cell_type": "code",
   "execution_count": 10,
   "metadata": {},
   "outputs": [
    {
     "data": {
      "text/plain": [
       "' Shazia Z. Anjoli'"
      ]
     },
     "execution_count": 10,
     "metadata": {},
     "output_type": "execute_result"
    }
   ],
   "source": [
    "re.sub(r\"^([\\w .-]*),([\\w .-]*)$\", r\"\\2 \\1\",\"Z. Anjoli, Shazia\")"
   ]
  },
  {
   "cell_type": "code",
   "execution_count": 11,
   "metadata": {},
   "outputs": [
    {
     "data": {
      "text/plain": [
       "['One sentence. Ano', 'r one? And ', ' l', 'st one!']"
      ]
     },
     "execution_count": 11,
     "metadata": {},
     "output_type": "execute_result"
    }
   ],
   "source": [
    "re.split(r\"the|a\", \"One sentence. Another one? And the last one!\")"
   ]
  },
  {
   "cell_type": "code",
   "execution_count": 12,
   "metadata": {},
   "outputs": [
    {
     "name": "stdout",
     "output_type": "stream",
     "text": [
      "<re.Match object; span=(0, 25), match='_this_is_very_interested_'>\n"
     ]
    }
   ],
   "source": [
    "pattern = r\"^[a-z_][a-z0-9_]*$\"\n",
    "print(re.search(pattern,\"_this_is_very_interested_\"))"
   ]
  },
  {
   "cell_type": "markdown",
   "metadata": {},
   "source": [
    " check if the text passed contains the vowels a, e and i, with exactly one occurrence of any other character in between."
   ]
  },
  {
   "cell_type": "code",
   "execution_count": 13,
   "metadata": {},
   "outputs": [
    {
     "name": "stdout",
     "output_type": "stream",
     "text": [
      "True\n",
      "False\n",
      "True\n"
     ]
    }
   ],
   "source": [
    "import re\n",
    "def check_aei (text):\n",
    "  result = re.search(r\"a.e.i\", text)\n",
    "  return result != None\n",
    "\n",
    "print(check_aei(\"academia\")) # True\n",
    "print(check_aei(\"aerial\")) # False\n",
    "print(check_aei(\"paramedic\")) # True"
   ]
  },
  {
   "cell_type": "raw",
   "metadata": {},
   "source": [
    "To check if the text passed contains punctuation symbols: commas, periods, colons, semicolons, question marks, and exclamation points."
   ]
  },
  {
   "cell_type": "code",
   "execution_count": 14,
   "metadata": {},
   "outputs": [
    {
     "name": "stdout",
     "output_type": "stream",
     "text": [
      "True\n",
      "False\n",
      "True\n",
      "True\n",
      "False\n"
     ]
    }
   ],
   "source": [
    "import re\n",
    "def check_punctuation (text):\n",
    "  result = re.search(r\"[,.:;?!]\", text)\n",
    "  return result != None\n",
    "\n",
    "print(check_punctuation(\"This is a sentence that ends with a period.\")) # True\n",
    "print(check_punctuation(\"This is a sentence fragment without a period\")) # False\n",
    "print(check_punctuation(\"Aren't regular expressions awesome?\")) # True\n",
    "print(check_punctuation(\"Wow! We're really picking up some steam now!\")) # True\n",
    "print(check_punctuation(\"End of the line\")) # False"
   ]
  },
  {
   "cell_type": "markdown",
   "metadata": {},
   "source": [
    "Lets create a python code that will verify users email."
   ]
  },
  {
   "cell_type": "code",
   "execution_count": 15,
   "metadata": {},
   "outputs": [
    {
     "name": "stdout",
     "output_type": "stream",
     "text": [
      "ab@gmail.cm\n",
      "Invalid Email Pattern\n"
     ]
    }
   ],
   "source": [
    "import re\n",
    "pattern = \"[a-zA-Z0-9]+@[a-zA-Z]+\\.(com|net|edu)\" # +indicates that we are looking combinations of number and alphabets\n",
    "user_input = input()\n",
    "if(re.search(pattern, user_input)):\n",
    "    print(\"valid Email, Please enter password now.\")\n",
    "else:\n",
    "    print(\"Invalid Email Pattern\")"
   ]
  },
  {
   "cell_type": "markdown",
   "metadata": {},
   "source": [
    "Now think about the unformatted phone number and picture the ugliness within it. So to beautify that, we can replace string and insert '-'. Now, our aim is to create a code that will replace string and create something new."
   ]
  },
  {
   "cell_type": "code",
   "execution_count": null,
   "metadata": {},
   "outputs": [],
   "source": [
    "import re\n",
    "pattern = \"(\\d\\d\\d)(\\d\\d\\d)(\\d\\d\\d\\d)\" # we have 10 digits # use bracket to form groups\n",
    "newpattern = r\"\\1-\\2-\\3\" # we are forming three groups with the hypen\n",
    "user_input = input()\n",
    "new_user_input = re.sub(pattern,newpattern,user_input)\n",
    "print(new_user_input)"
   ]
  },
  {
   "cell_type": "markdown",
   "metadata": {},
   "source": [
    "The repeating_letter_a function checks if the text passed includes the letter \"a\" (lowercase or uppercase) at least twice. For example, repeating_letter_a(\"banana\") is True, while repeating_letter_a(\"pineapple\") is False. "
   ]
  },
  {
   "cell_type": "code",
   "execution_count": null,
   "metadata": {},
   "outputs": [],
   "source": [
    "import re\n",
    "def repeating_letter_a(text):\n",
    "  result = re.search(r\"[aA].*[aA]\", text)\n",
    "  return result != None\n",
    "\n",
    "print(repeating_letter_a(\"banana\")) # True\n",
    "print(repeating_letter_a(\"pineapple\")) # False\n",
    "print(repeating_letter_a(\"Animal Kingdom\")) # True\n",
    "print(repeating_letter_a(\"A is for apple\")) # True"
   ]
  },
  {
   "cell_type": "markdown",
   "metadata": {},
   "source": [
    "check if the text passed has at least 2 groups of alphanumeric characters (including letters, numbers, and underscores) separated by one or more whitespace characters."
   ]
  },
  {
   "cell_type": "code",
   "execution_count": null,
   "metadata": {},
   "outputs": [],
   "source": [
    "import re\n",
    "def check_character_groups(text):\n",
    "  result = re.search(r\"[0-9]\\w\", text)\n",
    "  return result != None\n",
    "\n",
    "print(check_character_groups(\"One\")) # False\n",
    "print(check_character_groups(\"123  Ready Set GO\")) # True\n",
    "print(check_character_groups(\"username user_01\")) # True\n",
    "print(check_character_groups(\"shopping_list: milk, bread, eggs.\")) # False"
   ]
  },
  {
   "cell_type": "markdown",
   "metadata": {},
   "source": [
    "to check if the text passed looks like a standard sentence, meaning that it starts with an uppercase letter, followed by at least some lowercase letters or a space, and ends with a period, question mark, or exclamation point."
   ]
  },
  {
   "cell_type": "code",
   "execution_count": null,
   "metadata": {},
   "outputs": [],
   "source": [
    "import re\n",
    "def check_sentence(text):\n",
    "  result = re.search(r\"^[A-Z][ |a-z]*[.?\\!]$\", text) \n",
    "  return result != None\n",
    "\n",
    "print(check_sentence(\"Is this is a sentence?\")) # True\n",
    "print(check_sentence(\"is this is a sentence?\")) # False\n",
    "print(check_sentence(\"Hello\")) # False\n",
    "print(check_sentence(\"1-2-3-GO!\")) # False\n",
    "print(check_sentence(\"A star is born.\")) # True"
   ]
  },
  {
   "cell_type": "markdown",
   "metadata": {},
   "source": [
    "The check_web_address function checks if the text passed qualifies as a top-level web address, meaning that it contains alphanumeric characters (which includes letters, numbers, and underscores), as well as periods, dashes, and a plus sign, followed by a period and a character-only top-level domain such as \".com\", \".info\", \".edu\", etc."
   ]
  },
  {
   "cell_type": "code",
   "execution_count": null,
   "metadata": {},
   "outputs": [],
   "source": [
    "import re\n",
    "def check_web_address(text):\n",
    "  pattern = r\"^\\S+\\.[a-zA-Z]+$\"\n",
    "  result = re.search(pattern, text)\n",
    "  return result != None\n",
    "\n",
    "print(check_web_address(\"gmail.com\")) # True\n",
    "print(check_web_address(\"www@google\")) # False\n",
    "print(check_web_address(\"www.Coursera.org\")) # True\n",
    "print(check_web_address(\"web-address.com/homepage\")) # False\n",
    "print(check_web_address(\"My_Favorite-Blog.US\")) # True"
   ]
  },
  {
   "cell_type": "markdown",
   "metadata": {},
   "source": [
    "The check_time function checks for the time format of a 12-hour clock, as follows: the hour is between 1 and 12, with no leading zero, followed by a colon, then minutes between 00 and 59, then an optional space, and then AM or PM, in upper or lower case."
   ]
  },
  {
   "cell_type": "code",
   "execution_count": null,
   "metadata": {},
   "outputs": [],
   "source": [
    "import re\n",
    "def check_time(text):\n",
    "  pattern = r\"^[1-9][0-2]?:[0-5][0-9] ?[am|pm|AM|PM]\"\n",
    "  result = re.search(pattern, text)\n",
    "  return result != None\n",
    "\n",
    "print(check_time(\"12:45pm\")) # True\n",
    "print(check_time(\"9:59 AM\")) # True\n",
    "print(check_time(\"6:60am\")) # False\n",
    "print(check_time(\"five o'clock\")) # False"
   ]
  },
  {
   "cell_type": "markdown",
   "metadata": {},
   "source": [
    "The contains_acronym function checks the text for the presence of 2 or more characters or digits surrounded by parentheses, with at least the first character in uppercase (if it's a letter), returning True if the condition is met, or False otherwise. For example, \"Instant messaging (IM) is a set of communication technologies used for text-based communication\" should return True since (IM) satisfies the match conditions.\""
   ]
  },
  {
   "cell_type": "code",
   "execution_count": null,
   "metadata": {},
   "outputs": [],
   "source": [
    "import re\n",
    "def contains_acronym(text):\n",
    "  pattern = \"\\([A-Z1-9][a-zA-Z1-9]*\\)\"\n",
    "  result = re.search(pattern, text)\n",
    "  return result != None\n",
    "\n",
    "print(contains_acronym(\"Instant messaging (IM) is a set of communication technologies used for text-based communication\")) # True\n",
    "print(contains_acronym(\"American Standard Code for Information Interchange (ASCII) is a character encoding standard for electronic communication\")) # True\n",
    "print(contains_acronym(\"Please do NOT enter without permission!\")) # False\n",
    "print(contains_acronym(\"PostScript is a fourth-generation programming language (4GL)\")) # True\n",
    "print(contains_acronym(\"Have fun using a self-contained underwater breathing apparatus (Scuba)!\")) # True"
   ]
  },
  {
   "cell_type": "markdown",
   "metadata": {},
   "source": [
    "check if the text passed includes a possible U.S. zip code, formatted as follows: exactly 5 digits, and sometimes, but not always, followed by a dash with 4 more digits. The zip code needs to be preceded by at least one space, and cannot be at the start of the text."
   ]
  },
  {
   "cell_type": "code",
   "execution_count": null,
   "metadata": {},
   "outputs": [],
   "source": [
    "import re\n",
    "def check_zip_code (text):\n",
    "    result = re.search(r\"[ ]\\d{5}|[ ]\\d{5}-\\d{4}\", text)\n",
    "    return result != None\n",
    "\n",
    "print(check_zip_code(\"The zip codes for New York are 10001 thru 11104.\")) # True\n",
    "print(check_zip_code(\"90210 is a TV show\")) # False\n",
    "print(check_zip_code(\"Their address is: 123 Main Street, Anytown, AZ 85258-0001.\")) # True\n",
    "print(check_zip_code(\"The Parliament of Canada is at 111 Wellington St, Ottawa, ON K1A0A9.\")) # False"
   ]
  },
  {
   "cell_type": "code",
   "execution_count": null,
   "metadata": {},
   "outputs": [],
   "source": [
    "import re\n",
    "def extract_PID(log):\n",
    "    regex = r\"\\[(\\d+)\\]\"\n",
    "    result = re.search(regex,log)\n",
    "    if result is None:\n",
    "        return \" \"\n",
    "    else:\n",
    "        return result[1]\n",
    "extract_PID(\"July 29 07:45:02 message_to_the universe abir[29793]: muaaah mueeaaa muaaaahhh muaah\")"
   ]
  },
  {
   "cell_type": "markdown",
   "metadata": {},
   "source": [
    "Add to the regular expression used in the extract_pid function, to return the uppercase message in parenthesis, after the process id."
   ]
  },
  {
   "cell_type": "code",
   "execution_count": null,
   "metadata": {},
   "outputs": [],
   "source": [
    "import re\n",
    "def extract_pid(log_line):\n",
    "    regex = r\"\\[(\\d+)\\]\\: (\\w+)\"\n",
    "    result = re.search(regex, log_line)\n",
    "    if result is None:\n",
    "        return None\n",
    "    return \"{} ({})\".format(result[1], result[2])\n",
    "\n",
    "print(extract_pid(\"July 31 07:51:48 mycomputer bad_process[12345]: ERROR Performing package upgrade\")) # 12345 (ERROR)\n",
    "print(extract_pid(\"99 elephants in a [cage]\")) # None\n",
    "print(extract_pid(\"A string that also has numbers [34567] but no uppercase message\")) # None\n",
    "print(extract_pid(\"July 31 08:08:08 mycomputer new_process[67890]: RUNNING Performing backup\")) # 67890 (RUNNING)"
   ]
  },
  {
   "cell_type": "code",
   "execution_count": null,
   "metadata": {},
   "outputs": [],
   "source": [
    "result = re.split(r\"[.?!]\",\"This is a sentence. Is it ? It is !\")\n",
    "result1 = re.split(r\"([.?!])\",\"This is a sentence. Is it ? It is !\")\n",
    "print(result)\n",
    "print(result1)"
   ]
  },
  {
   "cell_type": "markdown",
   "metadata": {},
   "source": [
    "Suppose we have some emails in our log systems and we do not want other users to see them. We can hide them by the following code."
   ]
  },
  {
   "cell_type": "code",
   "execution_count": null,
   "metadata": {},
   "outputs": [],
   "source": [
    "result = re.sub(r\"[\\w.%+-]+@[\\w.-]+\",\"[REDUCTED]\", \"Received an email for abir29793@gmail.com  .But we have another user email:shazia.zaman2111@gmail.com\")\n",
    "#  the expression above will look for only strings before @ and after @ sign \n",
    "# \\w.%+- will match valid strings even numbers\n",
    "print(result)"
   ]
  },
  {
   "cell_type": "markdown",
   "metadata": {},
   "source": [
    "We're working with a CSV file, which contains employee information. Each record has a name field, followed by a phone number field, and a role field. The phone number field contains U.S. phone numbers, and needs to be modified to the international format, with \"+1-\" in front of the phone number."
   ]
  },
  {
   "cell_type": "code",
   "execution_count": null,
   "metadata": {},
   "outputs": [],
   "source": [
    "import re\n",
    "def transform_record(record):\n",
    "  new_record = re.sub(r\",(\\d{3})\",r\",+1-\\1\",record)\n",
    "  return new_record\n",
    "\n",
    "print(transform_record(\"Sabrina Green,802-867-5309,System Administrator\")) \n",
    "# Sabrina Green,+1-802-867-5309,System Administrator\n",
    "\n",
    "print(transform_record(\"Eli Jones,684-3481127,IT specialist\")) \n",
    "# Eli Jones,+1-684-3481127,IT specialist\n",
    "\n",
    "print(transform_record(\"Melody Daniels,846-687-7436,Programmer\")) \n",
    "# Melody Daniels,+1-846-687-7436,Programmer\n",
    "\n",
    "print(transform_record(\"Charlie Rivera,698-746-3357,Web Developer\")) \n",
    "# Charlie Rivera,+1-698-746-3357,Web Developer"
   ]
  },
  {
   "cell_type": "markdown",
   "metadata": {},
   "source": [
    "The multi_vowel_words function returns all words with 3 or more consecutive vowels (a, e, i, o, u). "
   ]
  },
  {
   "cell_type": "code",
   "execution_count": null,
   "metadata": {},
   "outputs": [],
   "source": [
    "import re\n",
    "def multi_vowel_words(text):\n",
    "  pattern = r\"(\\w+[a,e,i,o,u]{3,}\\w+)\"\n",
    "  result = re.findall(pattern, text)\n",
    "  return result\n",
    "\n",
    "print(multi_vowel_words(\"Life is beautiful\")) \n",
    "# ['beautiful']\n",
    "\n",
    "print(multi_vowel_words(\"Obviously, the queen is courageous and gracious.\")) \n",
    "# ['Obviously', 'queen', 'courageous', 'gracious']\n",
    "\n",
    "print(multi_vowel_words(\"The rambunctious children had to sit quietly and await their delicious dinner.\")) \n",
    "# ['rambunctious', 'quietly', 'delicious']\n",
    "\n",
    "print(multi_vowel_words(\"The order of a data queue is First In First Out (FIFO)\")) \n",
    "# ['queue']\n",
    "\n",
    "print(multi_vowel_words(\"Hello world!\")) \n",
    "# []"
   ]
  },
  {
   "cell_type": "markdown",
   "metadata": {},
   "source": [
    "The transform_comments function converts comments in a Python script into those usable by a C compiler. This means looking for text that begins with a hash mark (#) and replacing it with double slashes (//), which is the C single-line comment indicator. For the purpose of this exercise, we'll ignore the possibility of a hash mark embedded inside of a Python command, and assume that it's only used to indicate a comment. We also want to treat repetitive hash marks (##), (###), etc., as a single comment indicator, to be replaced with just (//) and not (#//) or (//#). "
   ]
  },
  {
   "cell_type": "code",
   "execution_count": null,
   "metadata": {},
   "outputs": [],
   "source": [
    "import re\n",
    "def transform_comments(line_of_code):\n",
    "  result = re.sub(r\"[\\#]{1,}\", \"//\",line_of_code)\n",
    "  return result\n",
    "\n",
    "print(transform_comments(\"### Start of program\")) \n",
    "# Should be \"// Start of program\"\n",
    "print(transform_comments(\"  number = 0   ## Initialize the variable\")) \n",
    "# Should be \"  number = 0   // Initialize the variable\"\n",
    "print(transform_comments(\"  number += 1   # Increment the variable\")) \n",
    "# Should be \"  number += 1   // Increment the variable\"\n",
    "print(transform_comments(\"  return(number)\")) \n",
    "# Should be \"  return(number)\""
   ]
  },
  {
   "cell_type": "markdown",
   "metadata": {},
   "source": [
    "The convert_phone_number function checks for a U.S. phone number format: XXX-XXX-XXXX (3 digits followed by a dash, 3 more digits followed by a dash, and 4 digits), and converts it to a more formal format that looks like this: (XXX) XXX-XXXX."
   ]
  },
  {
   "cell_type": "code",
   "execution_count": null,
   "metadata": {},
   "outputs": [],
   "source": [
    "import re\n",
    "def convert_phone_number(phone):\n",
    "  result = re.sub(r\"\\b(\\d{3})-(\\d{3})-(\\d{4})\\b\",r\"(\\1) \\2-\\3\", phone)\n",
    "  return result\n",
    "\n",
    "print(convert_phone_number(\"My number is 212-345-9999.\")) # My number is (212) 345-9999.\n",
    "print(convert_phone_number(\"Please call 888-555-1234\")) # Please call (888) 555-1234\n",
    "print(convert_phone_number(\"123-123-12345\")) # 123-123-12345\n",
    "print(convert_phone_number(\"Phone number of Buckingham Palace is +44 303 123 7300\")) # Phone number of Buckingham Palace is +44 303 123 7300"
   ]
  },
  {
   "cell_type": "code",
   "execution_count": null,
   "metadata": {},
   "outputs": [],
   "source": [
    "import re\n",
    "import csv\n",
    "def contains_domain(address, domain):\n",
    "  \"\"\"Returns True if the email address contains the given domain,\n",
    "    in the domain position, false if not.\"\"\"\n",
    "    domain_pattern = r'[\\w\\.-]+@'+domain+'$'\n",
    "    if re.match(domain_pattern, address):\n",
    "        return True\n",
    "    return False\n",
    "\n",
    "def replace_domain(address, old_domain, new_domain):\n",
    "  \"\"\"Replaces the old domain with the new domain in\n",
    "    the received address.\"\"\"\n",
    "    old_domain_pattern = r'' + old_domain + '$'\n",
    "    address = re.sub(old_domain_pattern, new_domain, address)\n",
    "    return address\n",
    "\n",
    "def main():\n",
    "  \"\"\"Processes the list of emails, replacing any instances of the\n",
    "    old domain with the new domain.\"\"\"\n",
    "    old_domain, new_domain = 'abc.edu', 'xyz.edu'\n",
    "    csv_file_location = '<csv-file-location>'\n",
    "    report_file =  '<data-directory>' + '/updated_user_emails.csv'\n",
    "\n",
    "main()"
   ]
  },
  {
   "cell_type": "code",
   "execution_count": null,
   "metadata": {},
   "outputs": [],
   "source": [
    "import re\n",
    "hand = open('regex_sum_42.txt')\n",
    "for line in hand:\n",
    "    line = line.rstrip()\n",
    "    if re.search('skills', line):\n",
    "        print(line)"
   ]
  },
  {
   "cell_type": "code",
   "execution_count": null,
   "metadata": {},
   "outputs": [],
   "source": [
    "import re\n",
    "content = open('regex_sum_886365.txt')\n",
    "\n",
    "numlist = list()\n",
    " \n",
    "for line in content:\n",
    "\tnumbers = re.findall('[0-9]+', line)\n",
    "\tif len(numbers) == 1:\n",
    "\t\tnum1 = int(numbers[0])\n",
    "\t\tnumlist.append(num1)\n",
    "\tif len(numbers) == 2:\n",
    "\t\tnum2 = int(numbers[0])\n",
    "\t\tnum3 = int(numbers[1])\n",
    "\t\tnumlist.append(num2)\n",
    "\t\tnumlist.append(num3)\n",
    "\tif len(numbers) == 3:\n",
    "\t\tnum4 = int(numbers[0])\n",
    "\t\tnum5 = int(numbers[1])\n",
    "\t\tnum6 = int(numbers[2])\n",
    "\t\tnumlist.append(num4)\n",
    "\t\tnumlist.append(num5)\n",
    "\t\tnumlist.append(num6)\n",
    " \n",
    "summ = 0\n",
    "for number in numlist:\n",
    "\tsumm += number\n",
    "print(summ)"
   ]
  }
 ],
 "metadata": {
  "kernelspec": {
   "display_name": "Python 3",
   "language": "python",
   "name": "python3"
  },
  "language_info": {
   "codemirror_mode": {
    "name": "ipython",
    "version": 3
   },
   "file_extension": ".py",
   "mimetype": "text/x-python",
   "name": "python",
   "nbconvert_exporter": "python",
   "pygments_lexer": "ipython3",
   "version": "3.7.7"
  }
 },
 "nbformat": 4,
 "nbformat_minor": 4
}
